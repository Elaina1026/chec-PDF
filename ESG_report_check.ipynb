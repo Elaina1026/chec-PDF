{
  "cells": [
    {
      "cell_type": "markdown",
      "metadata": {
        "id": "4vJm54EU93lH"
      },
      "source": [
        "# Import libraries"
      ]
    },
    {
      "cell_type": "code",
      "execution_count": null,
      "metadata": {
        "id": "xPnB7Q-z93lL"
      },
      "outputs": [],
      "source": [
        "import pandas as pd\n",
        "import io\n",
        "import requests\n",
        "import PyPDF2\n",
        "import spacy\n",
        "import string\n",
        "import re\n",
        "from PyPDF2 import PdfReader\n",
        "import os\n",
        "import numpy as np"
      ]
    },
    {
      "cell_type": "markdown",
      "metadata": {
        "id": "KpXHlLM-93lM"
      },
      "source": [
        "# 1. Download and read pdf"
      ]
    },
    {
      "cell_type": "code",
      "execution_count": null,
      "metadata": {
        "id": "jZgaBl8793lN"
      },
      "outputs": [],
      "source": [
        "# Folder to store pdf files\n",
        "path = r\"C:\\Users\\Hi\\OneDrive - University of Bristol\\SustainabilityReportAnalysis\\WorkingSpace\\Elaina\\Report\"\n"
      ]
    },
    {
      "cell_type": "markdown",
      "metadata": {
        "id": "zcistZpZ93lN"
      },
      "source": [
        "Import the links to download reports"
      ]
    },
    {
      "cell_type": "code",
      "execution_count": null,
      "metadata": {
        "id": "HJFotnZe93lO"
      },
      "outputs": [],
      "source": [
        "esg_sample = pd.read_excel(r\"C:\\Users\\Hi\\OneDrive - University of Bristol\\SustainabilityReportAnalysis\\WorkingSpace\\Elaina\\task.xlsx\", sheet_name=\"overview_2016\", usecols=range(6)).iloc[201:301]"
      ]
    },
    {
      "cell_type": "code",
      "execution_count": null,
      "metadata": {
        "id": "KIhmNTaK93lO"
      },
      "outputs": [],
      "source": [
        "esg_report_link = pd.read_excel(r\"C:\\Users\\Hi\\OneDrive - University of Bristol\\SustainabilityReportAnalysis\\WorkingSpace\\Elaina\\task.xlsx\")\n",
        "esg_report_link[\"Symbol\"] = esg_report_link[\"Ticker\"].str[:-2]\n",
        "esg_report_link[\"year\"] = esg_report_link[\"Year\"].str[-4:]\n",
        "esg_report_link[\"URL_check\"] = np.where(esg_report_link[\"Link\"].isna(), esg_report_link[\"URL\"], esg_report_link[\"Link\"])\n",
        "esg_report_link = esg_report_link[\n",
        "                                  (esg_report_link[\"year\"].isin([\"2016\", \"2017\", \"2018\", \"2019\", \"2020\", \"2021\"]))\n",
        "                                 #& (esg_report_link[\"Note\"] != 2)\n",
        "                                  ]"
      ]
    },
    {
      "cell_type": "code",
      "execution_count": null,
      "metadata": {
        "id": "0iMFqp3-93lP"
      },
      "outputs": [],
      "source": [
        "esg_report_link = esg_report_link[(esg_report_link[\"Symbol\"].isin(esg_sample[\"Symbol\"]))\n",
        "                                  & (esg_report_link[\"year\"].isin([\"2016\", \"2017\", \"2018\", \"2019\", \"2020\", \"2021\"]))\n",
        "                                  & (esg_report_link[\"Note\"] == 1)\n",
        "                                  ]"
      ]
    },
    {
      "cell_type": "code",
      "execution_count": null,
      "metadata": {
        "id": "DjwhKBs593lP"
      },
      "outputs": [],
      "source": [
        "count = esg_report_link.groupby(\"Symbol\").count()"
      ]
    },
    {
      "cell_type": "markdown",
      "metadata": {
        "id": "vSbDI3t893lQ"
      },
      "source": [
        "Download pdf from link and save files in folder"
      ]
    },
    {
      "cell_type": "code",
      "execution_count": null,
      "metadata": {
        "id": "Lym-v9D393lQ"
      },
      "outputs": [],
      "source": [
        "def download_pdf(df, folder_path):\n",
        "    #df['status'] = False\n",
        "\n",
        "    for index, row in df.iterrows():\n",
        "        ticker = row['Symbol']\n",
        "        year = row['Year']\n",
        "        url = row['Link']\n",
        "\n",
        "        # Skip if the URL is NaN or empty\n",
        "        if pd.isna(url) or not url:\n",
        "            print(f\"Invalid URL for Ticker: {ticker}, Year: {year}\")\n",
        "            continue\n",
        "\n",
        "        # Create the folder if it doesn't exist\n",
        "        os.makedirs(folder_path, exist_ok=True)\n",
        "\n",
        "        # Create a file path with the folder and file name\n",
        "        file_path = os.path.join(folder_path, f'{ticker}_{year}.pdf')\n",
        "\n",
        "        # Download the PDF file\n",
        "        try:\n",
        "            response = requests.get(url)\n",
        "            response.raise_for_status()\n",
        "        except requests.exceptions.RequestException as e:\n",
        "            print(f\"Error occurred while downloading the PDF for Ticker: {ticker}, Year: {year}\")\n",
        "            continue\n",
        "\n",
        "        # Save the PDF file\n",
        "        with open(file_path, 'wb') as file:\n",
        "            file.write(response.content)\n",
        "\n",
        "        #df.at[index, 'status'] = True\n",
        "        print(f\"PDF downloaded for Ticker: {ticker}, Year: {year}\")\n",
        "\n",
        "    print(\"PDF download completed.\")"
      ]
    },
    {
      "cell_type": "code",
      "execution_count": null,
      "metadata": {
        "id": "Z7pnkSZ693lQ",
        "outputId": "a522225b-10b6-48c6-f9e6-03a857eced6b"
      },
      "outputs": [
        {
          "name": "stdout",
          "output_type": "stream",
          "text": [
            "PDF downloaded for Ticker: GD, Year: FY2021\n",
            "Error occurred while downloading the PDF for Ticker: GD, Year: FY2020\n",
            "PDF downloaded for Ticker: GD, Year: FY2019\n",
            "PDF downloaded for Ticker: GD, Year: FY2018\n",
            "Invalid URL for Ticker: GD, Year: FY2017\n",
            "Invalid URL for Ticker: GD, Year: FY2016\n",
            "PDF downloaded for Ticker: GE, Year: FY2021\n",
            "PDF downloaded for Ticker: GE, Year: FY2020\n",
            "PDF downloaded for Ticker: GE, Year: FY2019\n",
            "PDF downloaded for Ticker: GE, Year: FY2018\n",
            "Invalid URL for Ticker: GE, Year: FY2017\n",
            "Invalid URL for Ticker: GE, Year: FY2016\n",
            "PDF downloaded for Ticker: GEN, Year: FY2021\n",
            "PDF downloaded for Ticker: GEN, Year: FY2020\n",
            "PDF downloaded for Ticker: GEN, Year: FY2019\n",
            "PDF downloaded for Ticker: GEN, Year: FY2018\n",
            "Error occurred while downloading the PDF for Ticker: GEN, Year: FY2017\n",
            "Error occurred while downloading the PDF for Ticker: GEN, Year: FY2016\n",
            "PDF downloaded for Ticker: GILD, Year: FY2021\n",
            "PDF downloaded for Ticker: GILD, Year: FY2020\n",
            "PDF downloaded for Ticker: GILD, Year: FY2019\n",
            "PDF downloaded for Ticker: GILD, Year: FY2018\n",
            "PDF downloaded for Ticker: GILD, Year: FY2017\n",
            "PDF downloaded for Ticker: GILD, Year: FY2016\n",
            "PDF downloaded for Ticker: GIS, Year: FY2021\n",
            "PDF downloaded for Ticker: GIS, Year: FY2020\n",
            "PDF downloaded for Ticker: GIS, Year: FY2019\n",
            "PDF downloaded for Ticker: GIS, Year: FY2018\n",
            "PDF downloaded for Ticker: GIS, Year: FY2017\n",
            "PDF downloaded for Ticker: GIS, Year: FY2016\n",
            "PDF downloaded for Ticker: GL, Year: FY2021\n",
            "PDF downloaded for Ticker: GL, Year: FY2020\n",
            "PDF downloaded for Ticker: GL, Year: FY2019\n",
            "PDF downloaded for Ticker: GL, Year: FY2018\n",
            "Invalid URL for Ticker: GL, Year: FY2017\n",
            "Invalid URL for Ticker: GL, Year: FY2016\n",
            "PDF downloaded for Ticker: GLW, Year: FY2021\n",
            "PDF downloaded for Ticker: GLW, Year: FY2020\n",
            "PDF downloaded for Ticker: GLW, Year: FY2019\n",
            "PDF downloaded for Ticker: GLW, Year: FY2018\n",
            "PDF downloaded for Ticker: GLW, Year: FY2017\n",
            "Invalid URL for Ticker: GLW, Year: FY2016\n",
            "PDF downloaded for Ticker: GM, Year: FY2021\n",
            "PDF downloaded for Ticker: GM, Year: FY2020\n",
            "PDF downloaded for Ticker: GM, Year: FY2019\n",
            "PDF downloaded for Ticker: GM, Year: FY2018\n",
            "PDF downloaded for Ticker: GM, Year: FY2017\n",
            "PDF downloaded for Ticker: GM, Year: FY2016\n",
            "PDF downloaded for Ticker: GNRC, Year: FY2021\n",
            "Invalid URL for Ticker: GNRC, Year: FY2020\n",
            "Invalid URL for Ticker: GNRC, Year: FY2019\n",
            "Invalid URL for Ticker: GNRC, Year: FY2018\n",
            "Invalid URL for Ticker: GNRC, Year: FY2017\n",
            "Invalid URL for Ticker: GNRC, Year: FY2016\n",
            "PDF downloaded for Ticker: GOOG, Year: FY2021\n",
            "PDF downloaded for Ticker: GOOG, Year: FY2020\n",
            "PDF downloaded for Ticker: GOOG, Year: FY2019\n",
            "PDF downloaded for Ticker: GOOG, Year: FY2018\n",
            "PDF downloaded for Ticker: GOOG, Year: FY2017\n",
            "PDF downloaded for Ticker: GOOG, Year: FY2016\n",
            "PDF downloaded for Ticker: GOOGL, Year: FY2021\n",
            "PDF downloaded for Ticker: GOOGL, Year: FY2020\n",
            "PDF downloaded for Ticker: GOOGL, Year: FY2019\n",
            "PDF downloaded for Ticker: GOOGL, Year: FY2018\n",
            "PDF downloaded for Ticker: GOOGL, Year: FY2017\n",
            "PDF downloaded for Ticker: GOOGL, Year: FY2016\n",
            "PDF downloaded for Ticker: GPC, Year: FY2021\n",
            "PDF downloaded for Ticker: GPC, Year: FY2020\n",
            "PDF downloaded for Ticker: GPC, Year: FY2019\n",
            "PDF downloaded for Ticker: GPC, Year: FY2018\n",
            "PDF downloaded for Ticker: GPC, Year: FY2017\n",
            "Invalid URL for Ticker: GPC, Year: FY2016\n",
            "PDF downloaded for Ticker: GPN, Year: FY2021\n",
            "PDF downloaded for Ticker: GPN, Year: FY2020\n",
            "PDF downloaded for Ticker: GPN, Year: FY2019\n",
            "PDF downloaded for Ticker: GPN, Year: FY2018\n",
            "Invalid URL for Ticker: GPN, Year: FY2017\n",
            "Invalid URL for Ticker: GPN, Year: FY2016\n",
            "PDF downloaded for Ticker: GRMN, Year: FY2021\n",
            "PDF downloaded for Ticker: GRMN, Year: FY2020\n",
            "PDF downloaded for Ticker: GRMN, Year: FY2019\n",
            "Invalid URL for Ticker: GRMN, Year: FY2018\n",
            "Invalid URL for Ticker: GRMN, Year: FY2017\n",
            "PDF downloaded for Ticker: GRMN, Year: FY2016\n",
            "PDF downloaded for Ticker: GS, Year: FY2021\n",
            "PDF downloaded for Ticker: GS, Year: FY2020\n",
            "PDF downloaded for Ticker: GS, Year: FY2019\n",
            "PDF downloaded for Ticker: GS, Year: FY2018\n",
            "PDF downloaded for Ticker: GS, Year: FY2017\n",
            "PDF downloaded for Ticker: GS, Year: FY2016\n",
            "PDF downloaded for Ticker: GWW, Year: FY2021\n",
            "PDF downloaded for Ticker: GWW, Year: FY2020\n",
            "PDF downloaded for Ticker: GWW, Year: FY2019\n",
            "PDF downloaded for Ticker: GWW, Year: FY2018\n",
            "PDF downloaded for Ticker: GWW, Year: FY2017\n",
            "PDF downloaded for Ticker: GWW, Year: FY2016\n",
            "PDF downloaded for Ticker: HAL, Year: FY2021\n",
            "PDF downloaded for Ticker: HAL, Year: FY2020\n",
            "PDF downloaded for Ticker: HAL, Year: FY2019\n",
            "PDF downloaded for Ticker: HAL, Year: FY2018\n",
            "PDF downloaded for Ticker: HAL, Year: FY2017\n",
            "PDF downloaded for Ticker: HAL, Year: FY2016\n",
            "PDF downloaded for Ticker: HAS, Year: FY2021\n",
            "PDF downloaded for Ticker: HAS, Year: FY2020\n",
            "PDF downloaded for Ticker: HAS, Year: FY2019\n",
            "PDF downloaded for Ticker: HAS, Year: FY2018\n",
            "PDF downloaded for Ticker: HAS, Year: FY2017\n",
            "PDF downloaded for Ticker: HAS, Year: FY2016\n",
            "PDF downloaded for Ticker: HBAN, Year: FY2021\n",
            "PDF downloaded for Ticker: HBAN, Year: FY2020\n",
            "PDF downloaded for Ticker: HBAN, Year: FY2019\n",
            "PDF downloaded for Ticker: HBAN, Year: FY2018\n",
            "PDF downloaded for Ticker: HBAN, Year: FY2017\n",
            "PDF downloaded for Ticker: HBAN, Year: FY2016\n",
            "PDF downloaded for Ticker: HCA, Year: FY2021\n",
            "PDF downloaded for Ticker: HCA, Year: FY2020\n",
            "Invalid URL for Ticker: HCA, Year: FY2019\n",
            "PDF downloaded for Ticker: HCA, Year: FY2018\n",
            "Invalid URL for Ticker: HCA, Year: FY2017\n",
            "Invalid URL for Ticker: HCA, Year: FY2016\n",
            "PDF downloaded for Ticker: HD, Year: FY2021\n",
            "PDF downloaded for Ticker: HD, Year: FY2020\n",
            "PDF downloaded for Ticker: HD, Year: FY2019\n",
            "PDF downloaded for Ticker: HD, Year: FY2018\n",
            "PDF downloaded for Ticker: HD, Year: FY2017\n",
            "PDF downloaded for Ticker: HD, Year: FY2016\n",
            "PDF downloaded for Ticker: HES, Year: FY2021\n",
            "PDF downloaded for Ticker: HES, Year: FY2020\n",
            "PDF downloaded for Ticker: HES, Year: FY2019\n",
            "PDF downloaded for Ticker: HES, Year: FY2018\n",
            "PDF downloaded for Ticker: HES, Year: FY2017\n",
            "PDF downloaded for Ticker: HES, Year: FY2016\n",
            "PDF downloaded for Ticker: HIG, Year: FY2021\n",
            "PDF downloaded for Ticker: HIG, Year: FY2020\n",
            "PDF downloaded for Ticker: HIG, Year: FY2019\n",
            "PDF downloaded for Ticker: HIG, Year: FY2018\n",
            "PDF downloaded for Ticker: HIG, Year: FY2017\n",
            "PDF downloaded for Ticker: HIG, Year: FY2016\n",
            "Error occurred while downloading the PDF for Ticker: HII, Year: FY2021\n",
            "Error occurred while downloading the PDF for Ticker: HII, Year: FY2020\n",
            "Invalid URL for Ticker: HII, Year: FY2019\n",
            "Invalid URL for Ticker: HII, Year: FY2018\n",
            "Invalid URL for Ticker: HII, Year: FY2017\n",
            "Invalid URL for Ticker: HII, Year: FY2016\n",
            "PDF downloaded for Ticker: HLT, Year: FY2021\n",
            "PDF downloaded for Ticker: HLT, Year: FY2020\n",
            "PDF downloaded for Ticker: HLT, Year: FY2019\n",
            "PDF downloaded for Ticker: HLT, Year: FY2018\n",
            "PDF downloaded for Ticker: HLT, Year: FY2017\n",
            "PDF downloaded for Ticker: HLT, Year: FY2016\n",
            "PDF downloaded for Ticker: HOLX, Year: FY2021\n",
            "PDF downloaded for Ticker: HOLX, Year: FY2020\n",
            "PDF downloaded for Ticker: HOLX, Year: FY2019\n",
            "Invalid URL for Ticker: HOLX, Year: FY2018\n",
            "Invalid URL for Ticker: HOLX, Year: FY2017\n",
            "Invalid URL for Ticker: HOLX, Year: FY2016\n",
            "PDF downloaded for Ticker: HON, Year: FY2021\n",
            "PDF downloaded for Ticker: HON, Year: FY2020\n",
            "Invalid URL for Ticker: HON, Year: FY2019\n",
            "Invalid URL for Ticker: HON, Year: FY2018\n",
            "Invalid URL for Ticker: HON, Year: FY2017\n",
            "Invalid URL for Ticker: HON, Year: FY2016\n",
            "PDF downloaded for Ticker: HPE, Year: FY2021\n",
            "PDF downloaded for Ticker: HPE, Year: FY2020\n",
            "PDF downloaded for Ticker: HPE, Year: FY2019\n",
            "PDF downloaded for Ticker: HPE, Year: FY2018\n",
            "PDF downloaded for Ticker: HPE, Year: FY2017\n",
            "PDF downloaded for Ticker: HPE, Year: FY2016\n",
            "PDF downloaded for Ticker: HPQ, Year: FY2021\n",
            "PDF downloaded for Ticker: HPQ, Year: FY2020\n",
            "PDF downloaded for Ticker: HPQ, Year: FY2019\n",
            "PDF downloaded for Ticker: HPQ, Year: FY2018\n",
            "PDF downloaded for Ticker: HPQ, Year: FY2017\n",
            "PDF downloaded for Ticker: HPQ, Year: FY2016\n",
            "PDF downloaded for Ticker: HRL, Year: FY2021\n",
            "PDF downloaded for Ticker: HRL, Year: FY2020\n",
            "PDF downloaded for Ticker: HRL, Year: FY2019\n",
            "PDF downloaded for Ticker: HRL, Year: FY2018\n",
            "PDF downloaded for Ticker: HRL, Year: FY2017\n",
            "PDF downloaded for Ticker: HRL, Year: FY2016\n",
            "PDF downloaded for Ticker: HSIC, Year: FY2021\n",
            "PDF downloaded for Ticker: HSIC, Year: FY2020\n",
            "PDF downloaded for Ticker: HSIC, Year: FY2019\n",
            "PDF downloaded for Ticker: HSIC, Year: FY2018\n",
            "Invalid URL for Ticker: HSIC, Year: FY2017\n",
            "Invalid URL for Ticker: HSIC, Year: FY2016\n",
            "PDF downloaded for Ticker: HST, Year: FY2021\n",
            "PDF downloaded for Ticker: HST, Year: FY2020\n",
            "PDF downloaded for Ticker: HST, Year: FY2019\n",
            "Invalid URL for Ticker: HST, Year: FY2018\n",
            "Invalid URL for Ticker: HST, Year: FY2017\n",
            "Invalid URL for Ticker: HST, Year: FY2016\n",
            "PDF downloaded for Ticker: HSY, Year: FY2021\n",
            "PDF downloaded for Ticker: HSY, Year: FY2020\n",
            "PDF downloaded for Ticker: HSY, Year: FY2019\n",
            "PDF downloaded for Ticker: HSY, Year: FY2018\n",
            "PDF downloaded for Ticker: HSY, Year: FY2017\n",
            "PDF downloaded for Ticker: HSY, Year: FY2016\n",
            "PDF downloaded for Ticker: HUM, Year: FY2021\n",
            "PDF downloaded for Ticker: HUM, Year: FY2020\n",
            "PDF downloaded for Ticker: HUM, Year: FY2019\n",
            "PDF downloaded for Ticker: HUM, Year: FY2018\n",
            "PDF downloaded for Ticker: HUM, Year: FY2017\n",
            "Invalid URL for Ticker: HUM, Year: FY2016\n",
            "PDF downloaded for Ticker: HWM, Year: FY2021\n",
            "PDF downloaded for Ticker: HWM, Year: FY2020\n",
            "PDF downloaded for Ticker: HWM, Year: FY2019\n",
            "PDF downloaded for Ticker: HWM, Year: FY2018\n",
            "PDF downloaded for Ticker: HWM, Year: FY2017\n",
            "PDF downloaded for Ticker: HWM, Year: FY2016\n",
            "PDF downloaded for Ticker: IBM, Year: FY2021\n",
            "PDF downloaded for Ticker: IBM, Year: FY2020\n",
            "PDF downloaded for Ticker: IBM, Year: FY2019\n",
            "PDF downloaded for Ticker: IBM, Year: FY2018\n",
            "PDF downloaded for Ticker: IBM, Year: FY2017\n",
            "PDF downloaded for Ticker: IBM, Year: FY2016\n",
            "PDF downloaded for Ticker: ICE, Year: FY2021\n",
            "PDF downloaded for Ticker: ICE, Year: FY2020\n",
            "PDF downloaded for Ticker: ICE, Year: FY2019\n",
            "PDF downloaded for Ticker: ICE, Year: FY2018\n",
            "PDF downloaded for Ticker: ICE, Year: FY2017\n",
            "PDF downloaded for Ticker: ICE, Year: FY2016\n",
            "PDF downloaded for Ticker: IDXX, Year: FY2021\n",
            "PDF downloaded for Ticker: IDXX, Year: FY2020\n",
            "Invalid URL for Ticker: IDXX, Year: FY2019\n",
            "Invalid URL for Ticker: IDXX, Year: FY2018\n",
            "PDF downloaded for Ticker: IDXX, Year: FY2017\n",
            "Invalid URL for Ticker: IDXX, Year: FY2016\n",
            "PDF downloaded for Ticker: IEX, Year: FY2021\n",
            "PDF downloaded for Ticker: IEX, Year: FY2020\n",
            "PDF downloaded for Ticker: IEX, Year: FY2019\n",
            "PDF downloaded for Ticker: IEX, Year: FY2018\n",
            "Invalid URL for Ticker: IEX, Year: FY2017\n",
            "Invalid URL for Ticker: IEX, Year: FY2016\n",
            "PDF downloaded for Ticker: IFF, Year: FY2021\n",
            "PDF downloaded for Ticker: IFF, Year: FY2020\n",
            "PDF downloaded for Ticker: IFF, Year: FY2019\n",
            "PDF downloaded for Ticker: IFF, Year: FY2018\n",
            "PDF downloaded for Ticker: IFF, Year: FY2017\n",
            "PDF downloaded for Ticker: IFF, Year: FY2016\n",
            "PDF downloaded for Ticker: ILMN, Year: FY2021\n",
            "PDF downloaded for Ticker: ILMN, Year: FY2020\n",
            "PDF downloaded for Ticker: ILMN, Year: FY2019\n",
            "Invalid URL for Ticker: ILMN, Year: FY2018\n",
            "Invalid URL for Ticker: ILMN, Year: FY2017\n",
            "Invalid URL for Ticker: ILMN, Year: FY2016\n",
            "PDF downloaded for Ticker: INCY, Year: FY2021\n",
            "Invalid URL for Ticker: INCY, Year: FY2020\n",
            "Invalid URL for Ticker: INCY, Year: FY2019\n",
            "Invalid URL for Ticker: INCY, Year: FY2018\n",
            "Invalid URL for Ticker: INCY, Year: FY2017\n",
            "Invalid URL for Ticker: INCY, Year: FY2016\n",
            "PDF downloaded for Ticker: INTC, Year: FY2021\n",
            "PDF downloaded for Ticker: INTC, Year: FY2020\n",
            "PDF downloaded for Ticker: INTC, Year: FY2019\n",
            "PDF downloaded for Ticker: INTC, Year: FY2018\n",
            "PDF downloaded for Ticker: INTC, Year: FY2017\n",
            "PDF downloaded for Ticker: INTC, Year: FY2016\n",
            "PDF downloaded for Ticker: INTU, Year: FY2021\n",
            "PDF downloaded for Ticker: INTU, Year: FY2020\n",
            "PDF downloaded for Ticker: INTU, Year: FY2019\n",
            "PDF downloaded for Ticker: INTU, Year: FY2018\n",
            "Invalid URL for Ticker: INTU, Year: FY2017\n",
            "Invalid URL for Ticker: INTU, Year: FY2016\n",
            "Invalid URL for Ticker: INVH, Year: FY2021\n",
            "Invalid URL for Ticker: INVH, Year: FY2020\n",
            "Invalid URL for Ticker: INVH, Year: FY2019\n",
            "Invalid URL for Ticker: INVH, Year: FY2018\n",
            "Invalid URL for Ticker: INVH, Year: FY2017\n",
            "Invalid URL for Ticker: INVH, Year: FY2016\n",
            "PDF downloaded for Ticker: IP, Year: FY2021\n",
            "PDF downloaded for Ticker: IP, Year: FY2020\n",
            "PDF downloaded for Ticker: IP, Year: FY2019\n",
            "PDF downloaded for Ticker: IP, Year: FY2018\n",
            "PDF downloaded for Ticker: IP, Year: FY2017\n",
            "PDF downloaded for Ticker: IP, Year: FY2016\n",
            "PDF downloaded for Ticker: IPG, Year: FY2021\n",
            "PDF downloaded for Ticker: IPG, Year: FY2020\n",
            "PDF downloaded for Ticker: IPG, Year: FY2019\n",
            "PDF downloaded for Ticker: IPG, Year: FY2018\n",
            "PDF downloaded for Ticker: IPG, Year: FY2017\n",
            "PDF downloaded for Ticker: IPG, Year: FY2016\n",
            "PDF downloaded for Ticker: IQV, Year: FY2021\n",
            "PDF downloaded for Ticker: IQV, Year: FY2020\n",
            "PDF downloaded for Ticker: IQV, Year: FY2019\n",
            "PDF downloaded for Ticker: IQV, Year: FY2018\n",
            "Invalid URL for Ticker: IQV, Year: FY2017\n",
            "PDF downloaded for Ticker: IQV, Year: FY2016\n",
            "PDF downloaded for Ticker: IR, Year: FY2021\n",
            "PDF downloaded for Ticker: IR, Year: FY2020\n",
            "PDF downloaded for Ticker: IR, Year: FY2019\n",
            "Invalid URL for Ticker: IR, Year: FY2018\n",
            "Invalid URL for Ticker: IR, Year: FY2017\n",
            "Invalid URL for Ticker: IR, Year: FY2016\n",
            "PDF downloaded for Ticker: IRM, Year: FY2021\n",
            "PDF downloaded for Ticker: IRM, Year: FY2020\n",
            "PDF downloaded for Ticker: IRM, Year: FY2019\n",
            "PDF downloaded for Ticker: IRM, Year: FY2018\n",
            "PDF downloaded for Ticker: IRM, Year: FY2017\n",
            "PDF downloaded for Ticker: IRM, Year: FY2016\n",
            "PDF downloaded for Ticker: ISRG, Year: FY2021\n",
            "PDF downloaded for Ticker: ISRG, Year: FY2020\n",
            "PDF downloaded for Ticker: ISRG, Year: FY2019\n",
            "PDF downloaded for Ticker: ISRG, Year: FY2018\n",
            "PDF downloaded for Ticker: ISRG, Year: FY2017\n",
            "PDF downloaded for Ticker: ISRG, Year: FY2016\n",
            "PDF downloaded for Ticker: IT, Year: FY2021\n",
            "PDF downloaded for Ticker: IT, Year: FY2020\n",
            "PDF downloaded for Ticker: IT, Year: FY2019\n",
            "Invalid URL for Ticker: IT, Year: FY2018\n",
            "Invalid URL for Ticker: IT, Year: FY2017\n",
            "Invalid URL for Ticker: IT, Year: FY2016\n",
            "PDF downloaded for Ticker: ITW, Year: FY2021\n",
            "PDF downloaded for Ticker: ITW, Year: FY2020\n",
            "PDF downloaded for Ticker: ITW, Year: FY2019\n",
            "PDF downloaded for Ticker: ITW, Year: FY2018\n",
            "PDF downloaded for Ticker: ITW, Year: FY2017\n",
            "PDF downloaded for Ticker: ITW, Year: FY2016\n",
            "PDF downloaded for Ticker: IVZ, Year: FY2021\n",
            "PDF downloaded for Ticker: IVZ, Year: FY2020\n",
            "PDF downloaded for Ticker: IVZ, Year: FY2019\n",
            "PDF downloaded for Ticker: IVZ, Year: FY2018\n",
            "PDF downloaded for Ticker: IVZ, Year: FY2017\n",
            "PDF downloaded for Ticker: IVZ, Year: FY2016\n",
            "PDF downloaded for Ticker: J, Year: FY2021\n",
            "PDF downloaded for Ticker: J, Year: FY2020\n",
            "PDF downloaded for Ticker: J, Year: FY2019\n",
            "Invalid URL for Ticker: J, Year: FY2018\n",
            "Invalid URL for Ticker: J, Year: FY2017\n",
            "PDF downloaded for Ticker: J, Year: FY2016\n",
            "PDF downloaded for Ticker: JBHT, Year: FY2021\n",
            "PDF downloaded for Ticker: JBHT, Year: FY2020\n",
            "Invalid URL for Ticker: JBHT, Year: FY2019\n",
            "Invalid URL for Ticker: JBHT, Year: FY2018\n",
            "Invalid URL for Ticker: JBHT, Year: FY2017\n",
            "Invalid URL for Ticker: JBHT, Year: FY2016\n",
            "PDF downloaded for Ticker: JCI, Year: FY2021\n",
            "PDF downloaded for Ticker: JCI, Year: FY2020\n",
            "PDF downloaded for Ticker: JCI, Year: FY2019\n",
            "PDF downloaded for Ticker: JCI, Year: FY2018\n",
            "PDF downloaded for Ticker: JCI, Year: FY2017\n",
            "PDF downloaded for Ticker: JCI, Year: FY2016\n",
            "PDF downloaded for Ticker: JKHY, Year: FY2021\n",
            "PDF downloaded for Ticker: JKHY, Year: FY2020\n",
            "PDF downloaded for Ticker: JKHY, Year: FY2019\n",
            "Invalid URL for Ticker: JKHY, Year: FY2018\n",
            "Invalid URL for Ticker: JKHY, Year: FY2017\n",
            "Invalid URL for Ticker: JKHY, Year: FY2016\n",
            "PDF downloaded for Ticker: JNJ, Year: FY2021\n",
            "PDF downloaded for Ticker: JNJ, Year: FY2020\n",
            "PDF downloaded for Ticker: JNJ, Year: FY2019\n",
            "PDF downloaded for Ticker: JNJ, Year: FY2018\n",
            "PDF downloaded for Ticker: JNJ, Year: FY2017\n",
            "PDF downloaded for Ticker: JNJ, Year: FY2016\n",
            "PDF downloaded for Ticker: JNPR, Year: FY2021\n",
            "PDF downloaded for Ticker: JNPR, Year: FY2020\n",
            "PDF downloaded for Ticker: JNPR, Year: FY2019\n",
            "Invalid URL for Ticker: JNPR, Year: FY2018\n",
            "Invalid URL for Ticker: JNPR, Year: FY2017\n",
            "Invalid URL for Ticker: JNPR, Year: FY2016\n",
            "PDF downloaded for Ticker: JPM, Year: FY2021\n",
            "PDF downloaded for Ticker: JPM, Year: FY2020\n",
            "PDF downloaded for Ticker: JPM, Year: FY2019\n",
            "PDF downloaded for Ticker: JPM, Year: FY2018\n",
            "PDF downloaded for Ticker: JPM, Year: FY2017\n",
            "PDF downloaded for Ticker: JPM, Year: FY2016\n",
            "PDF downloaded for Ticker: K, Year: FY2021\n",
            "PDF downloaded for Ticker: K, Year: FY2020\n",
            "PDF downloaded for Ticker: K, Year: FY2019\n",
            "PDF downloaded for Ticker: K, Year: FY2018\n",
            "PDF downloaded for Ticker: K, Year: FY2017\n",
            "PDF downloaded for Ticker: K, Year: FY2016\n",
            "PDF downloaded for Ticker: KDP, Year: FY2021\n",
            "PDF downloaded for Ticker: KDP, Year: FY2020\n",
            "PDF downloaded for Ticker: KDP, Year: FY2019\n",
            "PDF downloaded for Ticker: KDP, Year: FY2018\n",
            "Invalid URL for Ticker: KDP, Year: FY2017\n",
            "Invalid URL for Ticker: KDP, Year: FY2016\n",
            "PDF downloaded for Ticker: KEYS, Year: FY2021\n",
            "PDF downloaded for Ticker: KEYS, Year: FY2020\n",
            "PDF downloaded for Ticker: KEYS, Year: FY2019\n",
            "PDF downloaded for Ticker: KEYS, Year: FY2018\n",
            "PDF downloaded for Ticker: KEYS, Year: FY2017\n",
            "PDF downloaded for Ticker: KEYS, Year: FY2016\n",
            "PDF downloaded for Ticker: KHC, Year: FY2021\n",
            "PDF downloaded for Ticker: KHC, Year: FY2020\n",
            "PDF downloaded for Ticker: KHC, Year: FY2019\n",
            "Invalid URL for Ticker: KHC, Year: FY2018\n",
            "Invalid URL for Ticker: KHC, Year: FY2017\n",
            "PDF downloaded for Ticker: KHC, Year: FY2016\n",
            "PDF downloaded for Ticker: KIM, Year: FY2021\n",
            "PDF downloaded for Ticker: KIM, Year: FY2020\n",
            "PDF downloaded for Ticker: KIM, Year: FY2019\n",
            "PDF downloaded for Ticker: KIM, Year: FY2018\n",
            "PDF downloaded for Ticker: KIM, Year: FY2017\n",
            "PDF downloaded for Ticker: KIM, Year: FY2016\n",
            "PDF downloaded for Ticker: KLAC, Year: FY2021\n",
            "PDF downloaded for Ticker: KLAC, Year: FY2020\n",
            "PDF downloaded for Ticker: KLAC, Year: FY2019\n",
            "PDF downloaded for Ticker: KLAC, Year: FY2018\n",
            "PDF downloaded for Ticker: KLAC, Year: FY2017\n",
            "PDF downloaded for Ticker: KMB, Year: FY2021\n",
            "PDF downloaded for Ticker: KMB, Year: FY2020\n",
            "PDF downloaded for Ticker: KMB, Year: FY2019\n",
            "PDF downloaded for Ticker: KMB, Year: FY2018\n",
            "PDF downloaded for Ticker: KMB, Year: FY2017\n",
            "PDF downloaded for Ticker: KMB, Year: FY2016\n",
            "PDF downloaded for Ticker: KMI, Year: FY2021\n",
            "PDF downloaded for Ticker: KMI, Year: FY2020\n",
            "PDF downloaded for Ticker: KMI, Year: FY2019\n",
            "PDF downloaded for Ticker: KMI, Year: FY2018\n",
            "PDF downloaded for Ticker: KMI, Year: FY2017\n",
            "Invalid URL for Ticker: KMI, Year: FY2016\n",
            "PDF downloaded for Ticker: KMX, Year: FY2021\n",
            "Invalid URL for Ticker: KMX, Year: FY2020\n",
            "PDF downloaded for Ticker: KMX, Year: FY2019\n",
            "Invalid URL for Ticker: KMX, Year: FY2018\n",
            "Invalid URL for Ticker: KMX, Year: FY2017\n",
            "Invalid URL for Ticker: KMX, Year: FY2016\n",
            "PDF downloaded for Ticker: KO, Year: FY2021\n",
            "PDF downloaded for Ticker: KO, Year: FY2020\n",
            "PDF downloaded for Ticker: KO, Year: FY2019\n",
            "PDF downloaded for Ticker: KO, Year: FY2018\n",
            "PDF downloaded for Ticker: KO, Year: FY2017\n",
            "PDF downloaded for Ticker: KO, Year: FY2016\n",
            "PDF downloaded for Ticker: KR, Year: FY2021\n",
            "PDF downloaded for Ticker: KR, Year: FY2020\n",
            "PDF downloaded for Ticker: KR, Year: FY2019\n",
            "PDF downloaded for Ticker: KR, Year: FY2018\n",
            "PDF downloaded for Ticker: KR, Year: FY2017\n",
            "PDF downloaded for Ticker: KR, Year: FY2016\n",
            "Invalid URL for Ticker: L, Year: FY2021\n",
            "Invalid URL for Ticker: L, Year: FY2020\n",
            "Invalid URL for Ticker: L, Year: FY2019\n",
            "PDF downloaded for Ticker: L, Year: FY2018\n",
            "Invalid URL for Ticker: L, Year: FY2017\n",
            "Invalid URL for Ticker: L, Year: FY2016\n",
            "PDF downloaded for Ticker: LDOS, Year: FY2020\n",
            "PDF downloaded for Ticker: LDOS, Year: FY2019\n",
            "PDF downloaded for Ticker: LDOS, Year: FY2018\n",
            "Invalid URL for Ticker: LDOS, Year: FY2017\n",
            "PDF downloaded for Ticker: LDOS, Year: FY2016\n",
            "PDF downloaded for Ticker: LEN, Year: FY2021\n",
            "Invalid URL for Ticker: LEN, Year: FY2020\n",
            "Invalid URL for Ticker: LEN, Year: FY2019\n",
            "Invalid URL for Ticker: LEN, Year: FY2018\n",
            "Invalid URL for Ticker: LEN, Year: FY2017\n",
            "Invalid URL for Ticker: LEN, Year: FY2016\n",
            "PDF downloaded for Ticker: LH, Year: FY2021\n",
            "PDF downloaded for Ticker: LH, Year: FY2020\n",
            "PDF downloaded for Ticker: LH, Year: FY2019\n",
            "PDF downloaded for Ticker: LH, Year: FY2018\n",
            "Invalid URL for Ticker: LH, Year: FY2017\n",
            "Invalid URL for Ticker: LH, Year: FY2016\n",
            "PDF downloaded for Ticker: LHX, Year: FY2021\n",
            "PDF downloaded for Ticker: LHX, Year: FY2020\n",
            "Invalid URL for Ticker: LHX, Year: FY2019\n",
            "Invalid URL for Ticker: LHX, Year: FY2018\n",
            "Invalid URL for Ticker: LHX, Year: FY2017\n",
            "Invalid URL for Ticker: LHX, Year: FY2016\n",
            "PDF downloaded for Ticker: LIN, Year: FY2021\n",
            "PDF downloaded for Ticker: LIN, Year: FY2020\n",
            "PDF downloaded for Ticker: LIN, Year: FY2019\n",
            "PDF downloaded for Ticker: LIN, Year: FY2018\n",
            "PDF downloaded for Ticker: LIN, Year: FY2017\n",
            "Invalid URL for Ticker: LIN, Year: FY2016\n",
            "PDF downloaded for Ticker: LKQ, Year: FY2021\n",
            "PDF downloaded for Ticker: LKQ, Year: FY2020\n",
            "Invalid URL for Ticker: LKQ, Year: FY2019\n",
            "Invalid URL for Ticker: LKQ, Year: FY2018\n",
            "Invalid URL for Ticker: LKQ, Year: FY2017\n",
            "Invalid URL for Ticker: LKQ, Year: FY2016\n",
            "PDF downloaded for Ticker: LLY, Year: FY2021\n",
            "PDF downloaded for Ticker: LLY, Year: FY2020\n",
            "PDF downloaded for Ticker: LLY, Year: FY2019\n",
            "PDF downloaded for Ticker: LLY, Year: FY2018\n",
            "PDF downloaded for Ticker: LLY, Year: FY2017\n",
            "PDF downloaded for Ticker: LLY, Year: FY2016\n",
            "PDF downloaded for Ticker: LMT, Year: FY2021\n",
            "PDF downloaded for Ticker: LMT, Year: FY2020\n",
            "PDF downloaded for Ticker: LMT, Year: FY2019\n",
            "PDF downloaded for Ticker: LMT, Year: FY2018\n",
            "PDF downloaded for Ticker: LMT, Year: FY2017\n",
            "PDF downloaded for Ticker: LMT, Year: FY2016\n",
            "PDF downloaded for Ticker: LNC, Year: FY2021\n",
            "PDF downloaded for Ticker: LNC, Year: FY2020\n",
            "PDF downloaded for Ticker: LNC, Year: FY2019\n",
            "PDF downloaded for Ticker: LNC, Year: FY2018\n",
            "PDF downloaded for Ticker: LNC, Year: FY2017\n",
            "PDF downloaded for Ticker: LNC, Year: FY2016\n",
            "PDF downloaded for Ticker: LNT, Year: FY2021\n",
            "Invalid URL for Ticker: LNT, Year: FY2020\n",
            "Invalid URL for Ticker: LNT, Year: FY2019\n",
            "Invalid URL for Ticker: LNT, Year: FY2018\n",
            "Invalid URL for Ticker: LNT, Year: FY2017\n",
            "Invalid URL for Ticker: LNT, Year: FY2016\n",
            "PDF downloaded for Ticker: LOW, Year: FY2021\n",
            "PDF downloaded for Ticker: LOW, Year: FY2020\n",
            "PDF downloaded for Ticker: LOW, Year: FY2019\n",
            "PDF downloaded for Ticker: LOW, Year: FY2018\n",
            "PDF downloaded for Ticker: LOW, Year: FY2017\n",
            "PDF downloaded for Ticker: LOW, Year: FY2016\n",
            "PDF downloaded for Ticker: LRCX, Year: FY2021\n",
            "PDF downloaded for Ticker: LRCX, Year: FY2020\n",
            "PDF downloaded for Ticker: LRCX, Year: FY2019\n",
            "PDF downloaded for Ticker: LRCX, Year: FY2018\n",
            "Invalid URL for Ticker: LRCX, Year: FY2017\n",
            "Invalid URL for Ticker: LRCX, Year: FY2016\n",
            "PDF downloaded for Ticker: LUMN, Year: FY2021\n",
            "PDF downloaded for Ticker: LUMN, Year: FY2020\n",
            "PDF downloaded for Ticker: LUMN, Year: FY2019\n",
            "PDF downloaded for Ticker: LUMN, Year: FY2018\n",
            "PDF downloaded for Ticker: LUMN, Year: FY2017\n",
            "Invalid URL for Ticker: LUMN, Year: FY2016\n",
            "Invalid URL for Ticker: LUV, Year: FY2021\n",
            "PDF downloaded for Ticker: LUV, Year: FY2020\n",
            "PDF downloaded for Ticker: LUV, Year: FY2019\n",
            "PDF downloaded for Ticker: LUV, Year: FY2018\n",
            "PDF downloaded for Ticker: LUV, Year: FY2017\n",
            "PDF downloaded for Ticker: LUV, Year: FY2016\n",
            "PDF downloaded for Ticker: LVS, Year: FY2021\n",
            "PDF downloaded for Ticker: LVS, Year: FY2020\n",
            "PDF downloaded for Ticker: LVS, Year: FY2019\n",
            "PDF downloaded for Ticker: LVS, Year: FY2018\n",
            "PDF downloaded for Ticker: LVS, Year: FY2017\n",
            "PDF downloaded for Ticker: LVS, Year: FY2016\n",
            "PDF downloaded for Ticker: LW, Year: FY2021\n",
            "PDF downloaded for Ticker: LW, Year: FY2020\n",
            "PDF downloaded for Ticker: LW, Year: FY2019\n",
            "Invalid URL for Ticker: LW, Year: FY2018\n",
            "Invalid URL for Ticker: LW, Year: FY2017\n",
            "Invalid URL for Ticker: LW, Year: FY2016\n",
            "PDF downloaded for Ticker: LYB, Year: FY2021\n",
            "PDF downloaded for Ticker: LYB, Year: FY2020\n",
            "PDF downloaded for Ticker: LYB, Year: FY2019\n",
            "PDF downloaded for Ticker: LYB, Year: FY2018\n",
            "PDF downloaded for Ticker: LYB, Year: FY2017\n",
            "Invalid URL for Ticker: LYB, Year: FY2016\n",
            "Invalid URL for Ticker: LYV, Year: FY2021\n",
            "Invalid URL for Ticker: LYV, Year: FY2020\n",
            "Invalid URL for Ticker: LYV, Year: FY2019\n",
            "Invalid URL for Ticker: LYV, Year: FY2018\n",
            "Invalid URL for Ticker: LYV, Year: FY2017\n",
            "Invalid URL for Ticker: LYV, Year: FY2016\n",
            "PDF downloaded for Ticker: MA, Year: FY2021\n",
            "PDF downloaded for Ticker: MA, Year: FY2020\n",
            "PDF downloaded for Ticker: MA, Year: FY2019\n",
            "PDF downloaded for Ticker: MA, Year: FY2018\n",
            "PDF downloaded for Ticker: MA, Year: FY2017\n",
            "Invalid URL for Ticker: MA, Year: FY2016\n",
            "PDF downloaded for Ticker: MAA, Year: FY2021\n",
            "PDF downloaded for Ticker: MAA, Year: FY2020\n",
            "PDF downloaded for Ticker: MAA, Year: FY2019\n",
            "Invalid URL for Ticker: MAA, Year: FY2018\n",
            "Invalid URL for Ticker: MAA, Year: FY2017\n",
            "Invalid URL for Ticker: MAA, Year: FY2016\n",
            "Error occurred while downloading the PDF for Ticker: MAR, Year: FY2021\n",
            "Error occurred while downloading the PDF for Ticker: MAR, Year: FY2020\n",
            "Error occurred while downloading the PDF for Ticker: MAR, Year: FY2019\n",
            "Error occurred while downloading the PDF for Ticker: MAR, Year: FY2018\n",
            "Error occurred while downloading the PDF for Ticker: MAR, Year: FY2017\n",
            "Error occurred while downloading the PDF for Ticker: MAR, Year: FY2016\n",
            "PDF downloaded for Ticker: MAS, Year: FY2021\n",
            "PDF downloaded for Ticker: MAS, Year: FY2020\n",
            "Error occurred while downloading the PDF for Ticker: MAS, Year: FY2019\n",
            "PDF downloaded for Ticker: MAS, Year: FY2018\n",
            "PDF downloaded for Ticker: MAS, Year: FY2017\n",
            "PDF downloaded for Ticker: MAS, Year: FY2016\n",
            "PDF downloaded for Ticker: MCD, Year: FY2021\n",
            "PDF downloaded for Ticker: MCD, Year: FY2020\n",
            "PDF downloaded for Ticker: MCD, Year: FY2019\n",
            "Invalid URL for Ticker: MCD, Year: FY2018\n",
            "Invalid URL for Ticker: MCD, Year: FY2017\n",
            "Invalid URL for Ticker: MCD, Year: FY2016\n",
            "PDF downloaded for Ticker: MCHP, Year: FY2021\n",
            "PDF downloaded for Ticker: MCHP, Year: FY2020\n",
            "PDF downloaded for Ticker: MCHP, Year: FY2019\n",
            "PDF downloaded for Ticker: MCHP, Year: FY2018\n",
            "PDF downloaded for Ticker: MCHP, Year: FY2017\n",
            "PDF downloaded for Ticker: MCHP, Year: FY2016\n",
            "PDF downloaded for Ticker: MCK, Year: FY2021\n",
            "PDF downloaded for Ticker: MCK, Year: FY2020\n",
            "PDF downloaded for Ticker: MCK, Year: FY2019\n",
            "PDF downloaded for Ticker: MCK, Year: FY2018\n",
            "PDF downloaded for Ticker: MCK, Year: FY2017\n",
            "Invalid URL for Ticker: MCK, Year: FY2016\n",
            "PDF downloaded for Ticker: MCO, Year: FY2021\n",
            "PDF downloaded for Ticker: MCO, Year: FY2020\n",
            "PDF downloaded for Ticker: MCO, Year: FY2019\n",
            "PDF downloaded for Ticker: MCO, Year: FY2018\n",
            "PDF downloaded for Ticker: MCO, Year: FY2017\n",
            "PDF downloaded for Ticker: MCO, Year: FY2016\n",
            "PDF downloaded for Ticker: MDLZ, Year: FY2021\n",
            "PDF downloaded for Ticker: MDLZ, Year: FY2020\n",
            "PDF downloaded for Ticker: MDLZ, Year: FY2019\n",
            "PDF downloaded for Ticker: MDLZ, Year: FY2018\n",
            "PDF downloaded for Ticker: MDLZ, Year: FY2017\n",
            "PDF downloaded for Ticker: MDLZ, Year: FY2016\n",
            "PDF download completed.\n"
          ]
        }
      ],
      "source": [
        "download_pdf(esg_report_link[esg_report_link[\"Note\"] != 2], path)"
      ]
    },
    {
      "cell_type": "code",
      "execution_count": null,
      "metadata": {
        "id": "wf9Ybi-293lR",
        "outputId": "8186158c-4672-4ed9-8fb4-b7bd2e2c42f8"
      },
      "outputs": [
        {
          "name": "stdout",
          "output_type": "stream",
          "text": [
            "Error occurred while downloading the PDF for Ticker: GD, Year: FY2020\n",
            "Error occurred while downloading the PDF for Ticker: HII, Year: FY2021\n",
            "PDF downloaded for Ticker: HII, Year: FY2020\n"
          ]
        }
      ],
      "source": [
        "download_pdf(esg_report_link[esg_report_link[\"Note\"] == 2], path)"
      ]
    },
    {
      "cell_type": "code",
      "execution_count": null,
      "metadata": {
        "id": "rsY9Zi4n93lR",
        "outputId": "669bd52d-c717-4cbd-b8db-e7375b81a7cc"
      },
      "outputs": [
        {
          "name": "stdout",
          "output_type": "stream",
          "text": [
            "PDF downloaded for Ticker: GEN, Year: FY2020\n",
            "PDF downloaded for Ticker: GEN, Year: FY2019\n",
            "PDF downloaded for Ticker: GEN, Year: FY2018\n",
            "PDF downloaded for Ticker: GEN, Year: FY2017\n",
            "PDF downloaded for Ticker: GEN, Year: FY2016\n",
            "PDF download completed.\n"
          ]
        }
      ],
      "source": [
        "download_pdf(esg_report_link.iloc[12:17], path)"
      ]
    },
    {
      "cell_type": "code",
      "execution_count": null,
      "metadata": {
        "id": "K6k47Bn293lR",
        "outputId": "4f9f281d-7ab3-4a89-831e-e7bfee705559"
      },
      "outputs": [
        {
          "data": {
            "text/html": [
              "<div>\n",
              "<style scoped>\n",
              "    .dataframe tbody tr th:only-of-type {\n",
              "        vertical-align: middle;\n",
              "    }\n",
              "\n",
              "    .dataframe tbody tr th {\n",
              "        vertical-align: top;\n",
              "    }\n",
              "\n",
              "    .dataframe thead th {\n",
              "        text-align: right;\n",
              "    }\n",
              "</style>\n",
              "<table border=\"1\" class=\"dataframe\">\n",
              "  <thead>\n",
              "    <tr style=\"text-align: right;\">\n",
              "      <th></th>\n",
              "      <th>Ticker</th>\n",
              "      <th>Year</th>\n",
              "      <th>Filename_mannual</th>\n",
              "      <th>Filename</th>\n",
              "      <th>check_year</th>\n",
              "      <th>check_pdf</th>\n",
              "      <th>URL</th>\n",
              "      <th>Note</th>\n",
              "      <th>Link</th>\n",
              "      <th>Unnamed: 9</th>\n",
              "      <th>Symbol</th>\n",
              "      <th>year</th>\n",
              "      <th>URL_check</th>\n",
              "    </tr>\n",
              "  </thead>\n",
              "  <tbody>\n",
              "    <tr>\n",
              "      <th>25</th>\n",
              "      <td>GEN.A</td>\n",
              "      <td>FY2020</td>\n",
              "      <td>GEN.A-FY2020</td>\n",
              "      <td>2020 Corporate Responsibility Report</td>\n",
              "      <td>0.0</td>\n",
              "      <td>59.0</td>\n",
              "      <td>https://www.nortonlifelock.com/content/dam/nor...</td>\n",
              "      <td>1.0</td>\n",
              "      <td>https://www.nortonlifelock.com/content/dam/nor...</td>\n",
              "      <td>NaN</td>\n",
              "      <td>GEN</td>\n",
              "      <td>2020</td>\n",
              "      <td>https://www.nortonlifelock.com/content/dam/nor...</td>\n",
              "    </tr>\n",
              "    <tr>\n",
              "      <th>26</th>\n",
              "      <td>GEN.A</td>\n",
              "      <td>FY2019</td>\n",
              "      <td>GEN.A-FY2019</td>\n",
              "      <td>2019 Corporate Responsibility Report</td>\n",
              "      <td>0.0</td>\n",
              "      <td>112.0</td>\n",
              "      <td>https://www.nortonlifelock.com/content/dam/nor...</td>\n",
              "      <td>1.0</td>\n",
              "      <td>https://www.responsibilityreports.com/HostedDa...</td>\n",
              "      <td>NaN</td>\n",
              "      <td>GEN</td>\n",
              "      <td>2019</td>\n",
              "      <td>https://www.responsibilityreports.com/HostedDa...</td>\n",
              "    </tr>\n",
              "    <tr>\n",
              "      <th>27</th>\n",
              "      <td>GEN.A</td>\n",
              "      <td>FY2018</td>\n",
              "      <td>GEN.A-FY2018</td>\n",
              "      <td>2018 Corporate Responsibility Report</td>\n",
              "      <td>0.0</td>\n",
              "      <td>100.0</td>\n",
              "      <td>https://www.symantec.com/content/dam/symantec/...</td>\n",
              "      <td>1.0</td>\n",
              "      <td>https://www.responsibilityreports.com/HostedDa...</td>\n",
              "      <td>NaN</td>\n",
              "      <td>GEN</td>\n",
              "      <td>2018</td>\n",
              "      <td>https://www.responsibilityreports.com/HostedDa...</td>\n",
              "    </tr>\n",
              "    <tr>\n",
              "      <th>28</th>\n",
              "      <td>GEN.A</td>\n",
              "      <td>FY2017</td>\n",
              "      <td>GEN.A-FY2017</td>\n",
              "      <td>Corporate Responsibility Report  2017</td>\n",
              "      <td>0.0</td>\n",
              "      <td>100.0</td>\n",
              "      <td>https://www.symantec.com/content/dam/symantec/...</td>\n",
              "      <td>1.0</td>\n",
              "      <td>https://www.responsibilityreports.com/HostedDa...</td>\n",
              "      <td>NaN</td>\n",
              "      <td>GEN</td>\n",
              "      <td>2017</td>\n",
              "      <td>https://www.responsibilityreports.com/HostedDa...</td>\n",
              "    </tr>\n",
              "    <tr>\n",
              "      <th>29</th>\n",
              "      <td>GEN.A</td>\n",
              "      <td>FY2016</td>\n",
              "      <td>GEN.A-FY2016</td>\n",
              "      <td>Corporate Sustainability Report 2016</td>\n",
              "      <td>0.0</td>\n",
              "      <td>110.0</td>\n",
              "      <td>https://www.symantec.com/content/dam/symantec/...</td>\n",
              "      <td>1.0</td>\n",
              "      <td>https://www.responsibilityreports.com/HostedDa...</td>\n",
              "      <td>NaN</td>\n",
              "      <td>GEN</td>\n",
              "      <td>2016</td>\n",
              "      <td>https://www.responsibilityreports.com/HostedDa...</td>\n",
              "    </tr>\n",
              "  </tbody>\n",
              "</table>\n",
              "</div>"
            ],
            "text/plain": [
              "   Ticker    Year Filename_mannual                               Filename   \n",
              "25  GEN.A  FY2020     GEN.A-FY2020   2020 Corporate Responsibility Report  \\\n",
              "26  GEN.A  FY2019     GEN.A-FY2019   2019 Corporate Responsibility Report   \n",
              "27  GEN.A  FY2018     GEN.A-FY2018   2018 Corporate Responsibility Report   \n",
              "28  GEN.A  FY2017     GEN.A-FY2017  Corporate Responsibility Report  2017   \n",
              "29  GEN.A  FY2016     GEN.A-FY2016   Corporate Sustainability Report 2016   \n",
              "\n",
              "    check_year  check_pdf                                                URL   \n",
              "25         0.0       59.0  https://www.nortonlifelock.com/content/dam/nor...  \\\n",
              "26         0.0      112.0  https://www.nortonlifelock.com/content/dam/nor...   \n",
              "27         0.0      100.0  https://www.symantec.com/content/dam/symantec/...   \n",
              "28         0.0      100.0  https://www.symantec.com/content/dam/symantec/...   \n",
              "29         0.0      110.0  https://www.symantec.com/content/dam/symantec/...   \n",
              "\n",
              "    Note                                               Link Unnamed: 9 Symbol   \n",
              "25   1.0  https://www.nortonlifelock.com/content/dam/nor...        NaN    GEN  \\\n",
              "26   1.0  https://www.responsibilityreports.com/HostedDa...        NaN    GEN   \n",
              "27   1.0  https://www.responsibilityreports.com/HostedDa...        NaN    GEN   \n",
              "28   1.0  https://www.responsibilityreports.com/HostedDa...        NaN    GEN   \n",
              "29   1.0  https://www.responsibilityreports.com/HostedDa...        NaN    GEN   \n",
              "\n",
              "    year                                          URL_check  \n",
              "25  2020  https://www.nortonlifelock.com/content/dam/nor...  \n",
              "26  2019  https://www.responsibilityreports.com/HostedDa...  \n",
              "27  2018  https://www.responsibilityreports.com/HostedDa...  \n",
              "28  2017  https://www.responsibilityreports.com/HostedDa...  \n",
              "29  2016  https://www.responsibilityreports.com/HostedDa...  "
            ]
          },
          "execution_count": 11,
          "metadata": {},
          "output_type": "execute_result"
        }
      ],
      "source": [
        "esg_report_link.iloc[12:17]"
      ]
    },
    {
      "cell_type": "code",
      "execution_count": null,
      "metadata": {
        "id": "Gvp_5efy93lS",
        "outputId": "963f54a4-6bf2-4165-ec61-32da83433d71"
      },
      "outputs": [
        {
          "data": {
            "text/plain": [
              "<Response [200]>"
            ]
          },
          "execution_count": 10,
          "metadata": {},
          "output_type": "execute_result"
        }
      ],
      "source": [
        "requests.get(\"https://www.responsibilityreports.com/HostedData/ResponsibilityReportArchive/i/NYSE_IFF_2021.pdf\")"
      ]
    },
    {
      "cell_type": "code",
      "execution_count": null,
      "metadata": {
        "id": "xEVU40uQ93lS",
        "outputId": "90d5121c-cff7-40cb-e635-15a921e1fc2c"
      },
      "outputs": [
        {
          "ename": "KeyboardInterrupt",
          "evalue": "",
          "output_type": "error",
          "traceback": [
            "\u001b[1;31m---------------------------------------------------------------------------\u001b[0m",
            "\u001b[1;31mKeyboardInterrupt\u001b[0m                         Traceback (most recent call last)",
            "\u001b[1;32mc:\\Users\\Hi\\OneDrive - University of Bristol\\SustainabilityReportAnalysis\\WorkingSpace\\Danie\\ESG report check v2.ipynb Cell 15\u001b[0m in \u001b[0;36m1\n\u001b[1;32m----> <a href='vscode-notebook-cell:/c%3A/Users/Hi/OneDrive%20-%20University%20of%20Bristol/SustainabilityReportAnalysis/WorkingSpace/Danie/ESG%20report%20check%20v2.ipynb#X55sZmlsZQ%3D%3D?line=0'>1</a>\u001b[0m response \u001b[39m=\u001b[39m requests\u001b[39m.\u001b[39;49mget(\u001b[39m\"\u001b[39;49m\u001b[39mhttps://www.key.com/content/dam/kco/documents/businesses___institutions/2021_KeyCorp_ESG_Report.pdf\u001b[39;49m\u001b[39m\"\u001b[39;49m)\n\u001b[0;32m      <a href='vscode-notebook-cell:/c%3A/Users/Hi/OneDrive%20-%20University%20of%20Bristol/SustainabilityReportAnalysis/WorkingSpace/Danie/ESG%20report%20check%20v2.ipynb#X55sZmlsZQ%3D%3D?line=1'>2</a>\u001b[0m response\u001b[39m.\u001b[39mraise_for_status()\n\u001b[0;32m      <a href='vscode-notebook-cell:/c%3A/Users/Hi/OneDrive%20-%20University%20of%20Bristol/SustainabilityReportAnalysis/WorkingSpace/Danie/ESG%20report%20check%20v2.ipynb#X55sZmlsZQ%3D%3D?line=2'>3</a>\u001b[0m response\n",
            "File \u001b[1;32mc:\\Users\\Hi\\AppData\\Local\\Programs\\Python\\Python39\\lib\\site-packages\\requests\\api.py:73\u001b[0m, in \u001b[0;36mget\u001b[1;34m(url, params, **kwargs)\u001b[0m\n\u001b[0;32m     62\u001b[0m \u001b[39mdef\u001b[39;00m \u001b[39mget\u001b[39m(url, params\u001b[39m=\u001b[39m\u001b[39mNone\u001b[39;00m, \u001b[39m*\u001b[39m\u001b[39m*\u001b[39mkwargs):\n\u001b[0;32m     63\u001b[0m     \u001b[39mr\u001b[39m\u001b[39m\"\"\"Sends a GET request.\u001b[39;00m\n\u001b[0;32m     64\u001b[0m \n\u001b[0;32m     65\u001b[0m \u001b[39m    :param url: URL for the new :class:`Request` object.\u001b[39;00m\n\u001b[1;32m   (...)\u001b[0m\n\u001b[0;32m     70\u001b[0m \u001b[39m    :rtype: requests.Response\u001b[39;00m\n\u001b[0;32m     71\u001b[0m \u001b[39m    \"\"\"\u001b[39;00m\n\u001b[1;32m---> 73\u001b[0m     \u001b[39mreturn\u001b[39;00m request(\u001b[39m\"\u001b[39m\u001b[39mget\u001b[39m\u001b[39m\"\u001b[39m, url, params\u001b[39m=\u001b[39mparams, \u001b[39m*\u001b[39m\u001b[39m*\u001b[39mkwargs)\n",
            "File \u001b[1;32mc:\\Users\\Hi\\AppData\\Local\\Programs\\Python\\Python39\\lib\\site-packages\\requests\\api.py:59\u001b[0m, in \u001b[0;36mrequest\u001b[1;34m(method, url, **kwargs)\u001b[0m\n\u001b[0;32m     55\u001b[0m \u001b[39m# By using the 'with' statement we are sure the session is closed, thus we\u001b[39;00m\n\u001b[0;32m     56\u001b[0m \u001b[39m# avoid leaving sockets open which can trigger a ResourceWarning in some\u001b[39;00m\n\u001b[0;32m     57\u001b[0m \u001b[39m# cases, and look like a memory leak in others.\u001b[39;00m\n\u001b[0;32m     58\u001b[0m \u001b[39mwith\u001b[39;00m sessions\u001b[39m.\u001b[39mSession() \u001b[39mas\u001b[39;00m session:\n\u001b[1;32m---> 59\u001b[0m     \u001b[39mreturn\u001b[39;00m session\u001b[39m.\u001b[39mrequest(method\u001b[39m=\u001b[39mmethod, url\u001b[39m=\u001b[39murl, \u001b[39m*\u001b[39m\u001b[39m*\u001b[39mkwargs)\n",
            "File \u001b[1;32mc:\\Users\\Hi\\AppData\\Local\\Programs\\Python\\Python39\\lib\\site-packages\\requests\\sessions.py:587\u001b[0m, in \u001b[0;36mSession.request\u001b[1;34m(self, method, url, params, data, headers, cookies, files, auth, timeout, allow_redirects, proxies, hooks, stream, verify, cert, json)\u001b[0m\n\u001b[0;32m    582\u001b[0m send_kwargs \u001b[39m=\u001b[39m {\n\u001b[0;32m    583\u001b[0m     \u001b[39m\"\u001b[39m\u001b[39mtimeout\u001b[39m\u001b[39m\"\u001b[39m: timeout,\n\u001b[0;32m    584\u001b[0m     \u001b[39m\"\u001b[39m\u001b[39mallow_redirects\u001b[39m\u001b[39m\"\u001b[39m: allow_redirects,\n\u001b[0;32m    585\u001b[0m }\n\u001b[0;32m    586\u001b[0m send_kwargs\u001b[39m.\u001b[39mupdate(settings)\n\u001b[1;32m--> 587\u001b[0m resp \u001b[39m=\u001b[39m \u001b[39mself\u001b[39m\u001b[39m.\u001b[39msend(prep, \u001b[39m*\u001b[39m\u001b[39m*\u001b[39msend_kwargs)\n\u001b[0;32m    589\u001b[0m \u001b[39mreturn\u001b[39;00m resp\n",
            "File \u001b[1;32mc:\\Users\\Hi\\AppData\\Local\\Programs\\Python\\Python39\\lib\\site-packages\\requests\\sessions.py:701\u001b[0m, in \u001b[0;36mSession.send\u001b[1;34m(self, request, **kwargs)\u001b[0m\n\u001b[0;32m    698\u001b[0m start \u001b[39m=\u001b[39m preferred_clock()\n\u001b[0;32m    700\u001b[0m \u001b[39m# Send the request\u001b[39;00m\n\u001b[1;32m--> 701\u001b[0m r \u001b[39m=\u001b[39m adapter\u001b[39m.\u001b[39msend(request, \u001b[39m*\u001b[39m\u001b[39m*\u001b[39mkwargs)\n\u001b[0;32m    703\u001b[0m \u001b[39m# Total elapsed time of the request (approximately)\u001b[39;00m\n\u001b[0;32m    704\u001b[0m elapsed \u001b[39m=\u001b[39m preferred_clock() \u001b[39m-\u001b[39m start\n",
            "File \u001b[1;32mc:\\Users\\Hi\\AppData\\Local\\Programs\\Python\\Python39\\lib\\site-packages\\requests\\adapters.py:489\u001b[0m, in \u001b[0;36mHTTPAdapter.send\u001b[1;34m(self, request, stream, timeout, verify, cert, proxies)\u001b[0m\n\u001b[0;32m    487\u001b[0m \u001b[39mtry\u001b[39;00m:\n\u001b[0;32m    488\u001b[0m     \u001b[39mif\u001b[39;00m \u001b[39mnot\u001b[39;00m chunked:\n\u001b[1;32m--> 489\u001b[0m         resp \u001b[39m=\u001b[39m conn\u001b[39m.\u001b[39;49murlopen(\n\u001b[0;32m    490\u001b[0m             method\u001b[39m=\u001b[39;49mrequest\u001b[39m.\u001b[39;49mmethod,\n\u001b[0;32m    491\u001b[0m             url\u001b[39m=\u001b[39;49murl,\n\u001b[0;32m    492\u001b[0m             body\u001b[39m=\u001b[39;49mrequest\u001b[39m.\u001b[39;49mbody,\n\u001b[0;32m    493\u001b[0m             headers\u001b[39m=\u001b[39;49mrequest\u001b[39m.\u001b[39;49mheaders,\n\u001b[0;32m    494\u001b[0m             redirect\u001b[39m=\u001b[39;49m\u001b[39mFalse\u001b[39;49;00m,\n\u001b[0;32m    495\u001b[0m             assert_same_host\u001b[39m=\u001b[39;49m\u001b[39mFalse\u001b[39;49;00m,\n\u001b[0;32m    496\u001b[0m             preload_content\u001b[39m=\u001b[39;49m\u001b[39mFalse\u001b[39;49;00m,\n\u001b[0;32m    497\u001b[0m             decode_content\u001b[39m=\u001b[39;49m\u001b[39mFalse\u001b[39;49;00m,\n\u001b[0;32m    498\u001b[0m             retries\u001b[39m=\u001b[39;49m\u001b[39mself\u001b[39;49m\u001b[39m.\u001b[39;49mmax_retries,\n\u001b[0;32m    499\u001b[0m             timeout\u001b[39m=\u001b[39;49mtimeout,\n\u001b[0;32m    500\u001b[0m         )\n\u001b[0;32m    502\u001b[0m     \u001b[39m# Send the request.\u001b[39;00m\n\u001b[0;32m    503\u001b[0m     \u001b[39melse\u001b[39;00m:\n\u001b[0;32m    504\u001b[0m         \u001b[39mif\u001b[39;00m \u001b[39mhasattr\u001b[39m(conn, \u001b[39m\"\u001b[39m\u001b[39mproxy_pool\u001b[39m\u001b[39m\"\u001b[39m):\n",
            "File \u001b[1;32mc:\\Users\\Hi\\AppData\\Local\\Programs\\Python\\Python39\\lib\\site-packages\\urllib3\\connectionpool.py:703\u001b[0m, in \u001b[0;36mHTTPConnectionPool.urlopen\u001b[1;34m(self, method, url, body, headers, retries, redirect, assert_same_host, timeout, pool_timeout, release_conn, chunked, body_pos, **response_kw)\u001b[0m\n\u001b[0;32m    700\u001b[0m     \u001b[39mself\u001b[39m\u001b[39m.\u001b[39m_prepare_proxy(conn)\n\u001b[0;32m    702\u001b[0m \u001b[39m# Make the request on the httplib connection object.\u001b[39;00m\n\u001b[1;32m--> 703\u001b[0m httplib_response \u001b[39m=\u001b[39m \u001b[39mself\u001b[39;49m\u001b[39m.\u001b[39;49m_make_request(\n\u001b[0;32m    704\u001b[0m     conn,\n\u001b[0;32m    705\u001b[0m     method,\n\u001b[0;32m    706\u001b[0m     url,\n\u001b[0;32m    707\u001b[0m     timeout\u001b[39m=\u001b[39;49mtimeout_obj,\n\u001b[0;32m    708\u001b[0m     body\u001b[39m=\u001b[39;49mbody,\n\u001b[0;32m    709\u001b[0m     headers\u001b[39m=\u001b[39;49mheaders,\n\u001b[0;32m    710\u001b[0m     chunked\u001b[39m=\u001b[39;49mchunked,\n\u001b[0;32m    711\u001b[0m )\n\u001b[0;32m    713\u001b[0m \u001b[39m# If we're going to release the connection in ``finally:``, then\u001b[39;00m\n\u001b[0;32m    714\u001b[0m \u001b[39m# the response doesn't need to know about the connection. Otherwise\u001b[39;00m\n\u001b[0;32m    715\u001b[0m \u001b[39m# it will also try to release it and we'll have a double-release\u001b[39;00m\n\u001b[0;32m    716\u001b[0m \u001b[39m# mess.\u001b[39;00m\n\u001b[0;32m    717\u001b[0m response_conn \u001b[39m=\u001b[39m conn \u001b[39mif\u001b[39;00m \u001b[39mnot\u001b[39;00m release_conn \u001b[39melse\u001b[39;00m \u001b[39mNone\u001b[39;00m\n",
            "File \u001b[1;32mc:\\Users\\Hi\\AppData\\Local\\Programs\\Python\\Python39\\lib\\site-packages\\urllib3\\connectionpool.py:449\u001b[0m, in \u001b[0;36mHTTPConnectionPool._make_request\u001b[1;34m(self, conn, method, url, timeout, chunked, **httplib_request_kw)\u001b[0m\n\u001b[0;32m    444\u001b[0m             httplib_response \u001b[39m=\u001b[39m conn\u001b[39m.\u001b[39mgetresponse()\n\u001b[0;32m    445\u001b[0m         \u001b[39mexcept\u001b[39;00m \u001b[39mBaseException\u001b[39;00m \u001b[39mas\u001b[39;00m e:\n\u001b[0;32m    446\u001b[0m             \u001b[39m# Remove the TypeError from the exception chain in\u001b[39;00m\n\u001b[0;32m    447\u001b[0m             \u001b[39m# Python 3 (including for exceptions like SystemExit).\u001b[39;00m\n\u001b[0;32m    448\u001b[0m             \u001b[39m# Otherwise it looks like a bug in the code.\u001b[39;00m\n\u001b[1;32m--> 449\u001b[0m             six\u001b[39m.\u001b[39;49mraise_from(e, \u001b[39mNone\u001b[39;49;00m)\n\u001b[0;32m    450\u001b[0m \u001b[39mexcept\u001b[39;00m (SocketTimeout, BaseSSLError, SocketError) \u001b[39mas\u001b[39;00m e:\n\u001b[0;32m    451\u001b[0m     \u001b[39mself\u001b[39m\u001b[39m.\u001b[39m_raise_timeout(err\u001b[39m=\u001b[39me, url\u001b[39m=\u001b[39murl, timeout_value\u001b[39m=\u001b[39mread_timeout)\n",
            "File \u001b[1;32m<string>:3\u001b[0m, in \u001b[0;36mraise_from\u001b[1;34m(value, from_value)\u001b[0m\n",
            "File \u001b[1;32mc:\\Users\\Hi\\AppData\\Local\\Programs\\Python\\Python39\\lib\\site-packages\\urllib3\\connectionpool.py:444\u001b[0m, in \u001b[0;36mHTTPConnectionPool._make_request\u001b[1;34m(self, conn, method, url, timeout, chunked, **httplib_request_kw)\u001b[0m\n\u001b[0;32m    441\u001b[0m \u001b[39mexcept\u001b[39;00m \u001b[39mTypeError\u001b[39;00m:\n\u001b[0;32m    442\u001b[0m     \u001b[39m# Python 3\u001b[39;00m\n\u001b[0;32m    443\u001b[0m     \u001b[39mtry\u001b[39;00m:\n\u001b[1;32m--> 444\u001b[0m         httplib_response \u001b[39m=\u001b[39m conn\u001b[39m.\u001b[39;49mgetresponse()\n\u001b[0;32m    445\u001b[0m     \u001b[39mexcept\u001b[39;00m \u001b[39mBaseException\u001b[39;00m \u001b[39mas\u001b[39;00m e:\n\u001b[0;32m    446\u001b[0m         \u001b[39m# Remove the TypeError from the exception chain in\u001b[39;00m\n\u001b[0;32m    447\u001b[0m         \u001b[39m# Python 3 (including for exceptions like SystemExit).\u001b[39;00m\n\u001b[0;32m    448\u001b[0m         \u001b[39m# Otherwise it looks like a bug in the code.\u001b[39;00m\n\u001b[0;32m    449\u001b[0m         six\u001b[39m.\u001b[39mraise_from(e, \u001b[39mNone\u001b[39;00m)\n",
            "File \u001b[1;32mc:\\Users\\Hi\\AppData\\Local\\Programs\\Python\\Python39\\lib\\http\\client.py:1377\u001b[0m, in \u001b[0;36mHTTPConnection.getresponse\u001b[1;34m(self)\u001b[0m\n\u001b[0;32m   1375\u001b[0m \u001b[39mtry\u001b[39;00m:\n\u001b[0;32m   1376\u001b[0m     \u001b[39mtry\u001b[39;00m:\n\u001b[1;32m-> 1377\u001b[0m         response\u001b[39m.\u001b[39;49mbegin()\n\u001b[0;32m   1378\u001b[0m     \u001b[39mexcept\u001b[39;00m \u001b[39mConnectionError\u001b[39;00m:\n\u001b[0;32m   1379\u001b[0m         \u001b[39mself\u001b[39m\u001b[39m.\u001b[39mclose()\n",
            "File \u001b[1;32mc:\\Users\\Hi\\AppData\\Local\\Programs\\Python\\Python39\\lib\\http\\client.py:320\u001b[0m, in \u001b[0;36mHTTPResponse.begin\u001b[1;34m(self)\u001b[0m\n\u001b[0;32m    318\u001b[0m \u001b[39m# read until we get a non-100 response\u001b[39;00m\n\u001b[0;32m    319\u001b[0m \u001b[39mwhile\u001b[39;00m \u001b[39mTrue\u001b[39;00m:\n\u001b[1;32m--> 320\u001b[0m     version, status, reason \u001b[39m=\u001b[39m \u001b[39mself\u001b[39;49m\u001b[39m.\u001b[39;49m_read_status()\n\u001b[0;32m    321\u001b[0m     \u001b[39mif\u001b[39;00m status \u001b[39m!=\u001b[39m CONTINUE:\n\u001b[0;32m    322\u001b[0m         \u001b[39mbreak\u001b[39;00m\n",
            "File \u001b[1;32mc:\\Users\\Hi\\AppData\\Local\\Programs\\Python\\Python39\\lib\\http\\client.py:281\u001b[0m, in \u001b[0;36mHTTPResponse._read_status\u001b[1;34m(self)\u001b[0m\n\u001b[0;32m    280\u001b[0m \u001b[39mdef\u001b[39;00m \u001b[39m_read_status\u001b[39m(\u001b[39mself\u001b[39m):\n\u001b[1;32m--> 281\u001b[0m     line \u001b[39m=\u001b[39m \u001b[39mstr\u001b[39m(\u001b[39mself\u001b[39;49m\u001b[39m.\u001b[39;49mfp\u001b[39m.\u001b[39;49mreadline(_MAXLINE \u001b[39m+\u001b[39;49m \u001b[39m1\u001b[39;49m), \u001b[39m\"\u001b[39m\u001b[39miso-8859-1\u001b[39m\u001b[39m\"\u001b[39m)\n\u001b[0;32m    282\u001b[0m     \u001b[39mif\u001b[39;00m \u001b[39mlen\u001b[39m(line) \u001b[39m>\u001b[39m _MAXLINE:\n\u001b[0;32m    283\u001b[0m         \u001b[39mraise\u001b[39;00m LineTooLong(\u001b[39m\"\u001b[39m\u001b[39mstatus line\u001b[39m\u001b[39m\"\u001b[39m)\n",
            "File \u001b[1;32mc:\\Users\\Hi\\AppData\\Local\\Programs\\Python\\Python39\\lib\\socket.py:704\u001b[0m, in \u001b[0;36mSocketIO.readinto\u001b[1;34m(self, b)\u001b[0m\n\u001b[0;32m    702\u001b[0m \u001b[39mwhile\u001b[39;00m \u001b[39mTrue\u001b[39;00m:\n\u001b[0;32m    703\u001b[0m     \u001b[39mtry\u001b[39;00m:\n\u001b[1;32m--> 704\u001b[0m         \u001b[39mreturn\u001b[39;00m \u001b[39mself\u001b[39;49m\u001b[39m.\u001b[39;49m_sock\u001b[39m.\u001b[39;49mrecv_into(b)\n\u001b[0;32m    705\u001b[0m     \u001b[39mexcept\u001b[39;00m timeout:\n\u001b[0;32m    706\u001b[0m         \u001b[39mself\u001b[39m\u001b[39m.\u001b[39m_timeout_occurred \u001b[39m=\u001b[39m \u001b[39mTrue\u001b[39;00m\n",
            "File \u001b[1;32mc:\\Users\\Hi\\AppData\\Local\\Programs\\Python\\Python39\\lib\\ssl.py:1242\u001b[0m, in \u001b[0;36mSSLSocket.recv_into\u001b[1;34m(self, buffer, nbytes, flags)\u001b[0m\n\u001b[0;32m   1238\u001b[0m     \u001b[39mif\u001b[39;00m flags \u001b[39m!=\u001b[39m \u001b[39m0\u001b[39m:\n\u001b[0;32m   1239\u001b[0m         \u001b[39mraise\u001b[39;00m \u001b[39mValueError\u001b[39;00m(\n\u001b[0;32m   1240\u001b[0m           \u001b[39m\"\u001b[39m\u001b[39mnon-zero flags not allowed in calls to recv_into() on \u001b[39m\u001b[39m%s\u001b[39;00m\u001b[39m\"\u001b[39m \u001b[39m%\u001b[39m\n\u001b[0;32m   1241\u001b[0m           \u001b[39mself\u001b[39m\u001b[39m.\u001b[39m\u001b[39m__class__\u001b[39m)\n\u001b[1;32m-> 1242\u001b[0m     \u001b[39mreturn\u001b[39;00m \u001b[39mself\u001b[39;49m\u001b[39m.\u001b[39;49mread(nbytes, buffer)\n\u001b[0;32m   1243\u001b[0m \u001b[39melse\u001b[39;00m:\n\u001b[0;32m   1244\u001b[0m     \u001b[39mreturn\u001b[39;00m \u001b[39msuper\u001b[39m()\u001b[39m.\u001b[39mrecv_into(buffer, nbytes, flags)\n",
            "File \u001b[1;32mc:\\Users\\Hi\\AppData\\Local\\Programs\\Python\\Python39\\lib\\ssl.py:1100\u001b[0m, in \u001b[0;36mSSLSocket.read\u001b[1;34m(self, len, buffer)\u001b[0m\n\u001b[0;32m   1098\u001b[0m \u001b[39mtry\u001b[39;00m:\n\u001b[0;32m   1099\u001b[0m     \u001b[39mif\u001b[39;00m buffer \u001b[39mis\u001b[39;00m \u001b[39mnot\u001b[39;00m \u001b[39mNone\u001b[39;00m:\n\u001b[1;32m-> 1100\u001b[0m         \u001b[39mreturn\u001b[39;00m \u001b[39mself\u001b[39;49m\u001b[39m.\u001b[39;49m_sslobj\u001b[39m.\u001b[39;49mread(\u001b[39mlen\u001b[39;49m, buffer)\n\u001b[0;32m   1101\u001b[0m     \u001b[39melse\u001b[39;00m:\n\u001b[0;32m   1102\u001b[0m         \u001b[39mreturn\u001b[39;00m \u001b[39mself\u001b[39m\u001b[39m.\u001b[39m_sslobj\u001b[39m.\u001b[39mread(\u001b[39mlen\u001b[39m)\n",
            "\u001b[1;31mKeyboardInterrupt\u001b[0m: "
          ]
        }
      ],
      "source": [
        "response = requests.get(\"https://www.key.com/content/dam/kco/documents/businesses___institutions/2021_KeyCorp_ESG_Report.pdf\")\n",
        "response.raise_for_status()\n",
        "response"
      ]
    },
    {
      "cell_type": "code",
      "execution_count": null,
      "metadata": {
        "id": "YA_lon-S93lS"
      },
      "outputs": [],
      "source": [
        "try:\n",
        "    response = requests.get(url)\n",
        "    response.raise_for_status()\n",
        "except requests.exceptions.RequestException as e:\n",
        "    print(f\"Error occurred while downloading the PDF for Ticker: {ticker}, Year: {year}\")\n",
        "    continue\n",
        "\n",
        "        # Save the PDF file\n",
        "\n",
        "\n",
        "with open(file_path, 'wb') as file:\n",
        "    file.write(response.content)"
      ]
    },
    {
      "cell_type": "markdown",
      "metadata": {
        "id": "xEGkHb9B93lS"
      },
      "source": [
        "Read pdf into dataframes"
      ]
    },
    {
      "cell_type": "code",
      "execution_count": null,
      "metadata": {
        "id": "SsF7U51993lS"
      },
      "outputs": [],
      "source": [
        "def read_pdf(folder_path):\n",
        "    results = []\n",
        "    for file_name in os.listdir(folder_path):\n",
        "        if file_name.endswith(\".pdf\"):\n",
        "            ticker, year = file_name[:-4].split(\"_\")\n",
        "            file_path = os.path.join(folder_path, file_name)\n",
        "\n",
        "            try:\n",
        "                #with open(file_path, 'wb') as file:\n",
        "                #    file.write(response.content)\n",
        "\n",
        "                # Read the PDF file using PyPDF2\n",
        "                with open(file_path, 'rb') as file:\n",
        "                    reader = PdfReader(file)\n",
        "                    num_pages = len(reader.pages)\n",
        "\n",
        "                    # Extract text from each page\n",
        "                    text = ''\n",
        "                    for page in reader.pages:\n",
        "                        text += page.extract_text()\n",
        "                    #text = text.replace('\\n', ' ')  # Replace line breaks with spaces\n",
        "                    text = re.sub(r'\\s+', ' ', text)  # Remove excess space\n",
        "\n",
        "                    # Extract text from 1st page only\n",
        "                    text_page1 = reader.pages[0].extract_text()\n",
        "                    text_page1 = re.sub(r'\\s+', ' ', text_page1)\n",
        "\n",
        "\n",
        "            except Exception as e:\n",
        "                print(f\"Error occurred while processing the PDF file: {file_name}. Skipping file.\")\n",
        "                continue\n",
        "\n",
        "            # Append results to the list\n",
        "            results.append({'Ticker': ticker, 'Year': year, 'Filename': file_name, 'Text': text, \"Text_page1\": text_page1})\n",
        "\n",
        "    # Create a DataFrame from the results\n",
        "    output_df = pd.DataFrame(results, columns=['Ticker', 'Year', 'Filename', 'Text', \"Text_page1\"])\n",
        "    return output_df"
      ]
    },
    {
      "cell_type": "code",
      "execution_count": null,
      "metadata": {
        "id": "pSRFkDev93lS"
      },
      "outputs": [],
      "source": [
        "esg_report_text = read_pdf(path)"
      ]
    },
    {
      "cell_type": "code",
      "execution_count": null,
      "metadata": {
        "id": "RfBUB7Si93lS"
      },
      "outputs": [],
      "source": [
        "# Export pdf content to excel\n",
        "esg_report_text.to_excel(r\"C:\\Users\\Hi\\OneDrive - University of Bristol\\Msc Business Analytics\\Wen\\esg_report_text.xlsx\", index=False)"
      ]
    },
    {
      "cell_type": "code",
      "execution_count": null,
      "metadata": {
        "id": "e2t24psR93lS"
      },
      "outputs": [],
      "source": [
        "#esg_report_text = pd.read_excel(r\"C:\\Users\\Hi\\OneDrive - University of Bristol\\Msc Business Analytics\\Wen\\esg_report_text.xlsx\")"
      ]
    },
    {
      "cell_type": "markdown",
      "metadata": {
        "id": "t1WDdeRQ93lT"
      },
      "source": [
        "Manually search for report date and fill in Excel"
      ]
    },
    {
      "cell_type": "code",
      "execution_count": null,
      "metadata": {
        "id": "BA1iGgoD93lT"
      },
      "outputs": [],
      "source": [
        "esg_report_date = pd.read_excel(r\"C:\\Users\\Hi\\OneDrive - University of Bristol\\Msc Business Analytics\\Wen\\esg_report_date.xlsx\")\n",
        "esg_report_date[\"Report_date\"] = esg_report_date[\"Report_date\"].dt.date"
      ]
    },
    {
      "cell_type": "markdown",
      "metadata": {
        "id": "yx_OSnEL93lT"
      },
      "source": [
        "Manually check case by case for report titles (automatically extracted from 1st page of report)"
      ]
    },
    {
      "cell_type": "code",
      "execution_count": null,
      "metadata": {
        "id": "__TQNfMd93lT"
      },
      "outputs": [],
      "source": [
        "esg_report_name = pd.read_excel(r\"C:\\Users\\Hi\\OneDrive - University of Bristol\\Msc Business Analytics\\Wen\\esg_report_name.xlsx\")"
      ]
    },
    {
      "cell_type": "markdown",
      "metadata": {
        "id": "ncnrEoAU93lT"
      },
      "source": [
        "# 2. Analyse ESG reports"
      ]
    },
    {
      "cell_type": "markdown",
      "metadata": {
        "id": "WC24f5wX93lT"
      },
      "source": [
        "Check if integrate all ESG aspects"
      ]
    },
    {
      "cell_type": "code",
      "execution_count": null,
      "metadata": {
        "id": "V6yM73-x93lT"
      },
      "outputs": [],
      "source": [
        "checklist_esg = {\n",
        "        'Environmental': ['environment', \"environmental\"],\n",
        "        'Social': [\"social\"],\n",
        "        'Governance': ['governance'],\n",
        "        'ESG': ['ESG'],\n",
        "    }"
      ]
    },
    {
      "cell_type": "markdown",
      "metadata": {
        "id": "7_zAMINF93lT"
      },
      "source": [
        "Check if follow any report standard"
      ]
    },
    {
      "cell_type": "code",
      "execution_count": null,
      "metadata": {
        "id": "KAmGF6X_93lT"
      },
      "outputs": [],
      "source": [
        "checklist_standard = {\n",
        "        \"GRI\": [\"Global Reporting Initiative\", \"GRI\"],\n",
        "        \"SASB\": [\"Sustainability Accounting Standards Board\", \"SASB\"],\n",
        "        \"TCFD\": [\"Task Force on Climate-related Financial Disclosures\", \"TCFD\"],\n",
        "        \"UNSDG\": [\"United Nations Sustainable Development Goals\", \"Sustainable Development Goals\", \"UNSDG\", \"UN SDG\", \"UN SDGs\", \"SDGs\"]\n",
        "    }\n",
        "keywords_standard = [item for sublist in list(checklist_standard.values()) for item in sublist]"
      ]
    },
    {
      "cell_type": "code",
      "execution_count": null,
      "metadata": {
        "id": "F-R6Kqp293lU"
      },
      "outputs": [],
      "source": [
        "checklist_all_keywords = {**checklist_esg, **checklist_standard}"
      ]
    },
    {
      "cell_type": "code",
      "execution_count": null,
      "metadata": {
        "id": "UfraTiGf93lU",
        "outputId": "2e55b032-7bf9-4c94-ba72-689628f74e27"
      },
      "outputs": [
        {
          "data": {
            "text/plain": [
              "['Environmental',\n",
              " 'Social',\n",
              " 'Governance',\n",
              " 'ESG',\n",
              " 'GRI',\n",
              " 'SASB',\n",
              " 'TCFD',\n",
              " 'UNSDG']"
            ]
          },
          "execution_count": 12,
          "metadata": {},
          "output_type": "execute_result"
        }
      ],
      "source": [
        "list(checklist_all_keywords)"
      ]
    },
    {
      "cell_type": "code",
      "execution_count": null,
      "metadata": {
        "id": "Okw0nZwn93lU"
      },
      "outputs": [],
      "source": [
        "def check_content(text, checklist):\n",
        "    check_keyword = {}\n",
        "\n",
        "    for content, keywords in checklist.items():\n",
        "        for keyword in keywords:\n",
        "            if re.search(r'\\b{}\\b'.format(re.escape(keyword)), text, re.IGNORECASE):\n",
        "                check_keyword[content] = 1\n",
        "                break\n",
        "        else:\n",
        "            check_keyword[content] = 0\n",
        "\n",
        "    return pd.Series(check_keyword)"
      ]
    },
    {
      "cell_type": "markdown",
      "metadata": {
        "id": "967HTvoR93lU"
      },
      "source": [
        "Find piece of evidence that the report follows a standard"
      ]
    },
    {
      "cell_type": "code",
      "execution_count": null,
      "metadata": {
        "id": "hUle0Pio93lU"
      },
      "outputs": [],
      "source": [
        "def find_sentence(text, keywords):\n",
        "    sentences = re.split(r'(?<=[.!?])\\s+', text)\n",
        "    text_with_keywords = \"\"\n",
        "    for sentence in sentences:\n",
        "        # Count the number of words in the sentence\n",
        "        num_words = len(sentence.split())\n",
        "\n",
        "        # Only show sentences have less than < 40 words to exclude incomplete sentences (eg: all table of contents are counted as 1 sentence)\n",
        "        if num_words < 40:\n",
        "            for keyword in keywords:\n",
        "                if re.search(r'\\b{}\\b'.format(re.escape(keyword)), sentence, flags=re.IGNORECASE):\n",
        "                    text_with_keywords += sentence + \"\\n\"\n",
        "                    break\n",
        "    return text_with_keywords.strip()"
      ]
    },
    {
      "cell_type": "code",
      "execution_count": null,
      "metadata": {
        "id": "zWxtxBdn93lU"
      },
      "outputs": [],
      "source": [
        "esg_report_check = esg_report_text.sort_values([\"Ticker\", \"Year\"])\n",
        "esg_report_check[\"file_accessible\"] = np.where(esg_report_check[\"Text\"] == \"\", 0, 1)\n",
        "esg_report_check[\"Independent_report\"] = 1\n",
        "esg_report_check[list(checklist_all_keywords)] = esg_report_check.apply(lambda x: check_content(x[\"Text\"], checklist_all_keywords), axis=1)\n",
        "esg_report_check[\"Integrated_report\"] = esg_report_check[['Environmental', 'Social', 'Governance',]].min(axis=1)\n",
        "esg_report_check[\"standard_notes\"] = esg_report_check.apply(lambda x: find_sentence(x[\"Text\"], keywords_standard), axis=1)\n",
        "esg_report_check[\"fiscal_year_notes\"] = esg_report_check.apply(lambda x: find_sentence(x[\"Text\"], [\"fiscal\", \"calendar\"]), axis=1)"
      ]
    },
    {
      "cell_type": "code",
      "execution_count": null,
      "metadata": {
        "id": "jJ19ekw193lU"
      },
      "outputs": [],
      "source": [
        "esg_report_check.to_excel(r\"C:\\Users\\Hi\\OneDrive - University of Bristol\\Msc Business Analytics\\Wen\\esg_report_check.xlsx\", index=False)"
      ]
    },
    {
      "cell_type": "code",
      "execution_count": null,
      "metadata": {
        "id": "LZzWd9lm93li"
      },
      "outputs": [],
      "source": [
        "esg_report_check = pd.read_excel(r\"C:\\Users\\Hi\\OneDrive - University of Bristol\\Msc Business Analytics\\Wen\\esg_report_check.xlsx\")"
      ]
    },
    {
      "cell_type": "markdown",
      "metadata": {
        "id": "fghWO4Bj93li"
      },
      "source": [
        "Export to desired template"
      ]
    },
    {
      "cell_type": "code",
      "execution_count": null,
      "metadata": {
        "id": "l5oFBHZc93li"
      },
      "outputs": [],
      "source": [
        "esg_report_analysis = esg_report_link[[\"Ticker\", \"Year\", \"year\"]][esg_report_link.year.astype(int) < 2022] \\\n",
        "                        .merge(esg_sample, how=\"left\", left_on=\"Ticker\", right_on=\"Symbol\") \\\n",
        "                        .merge(esg_report_check[[\"Ticker\", \"Year\", \"Independent_report\", \"Integrated_report\",\n",
        "                                                 \"GRI\", \"SASB\", \"TCFD\", \"UNSDG\", \"file_accessible\", \"standard_notes\"]],\n",
        "                                                 how=\"left\", on=[\"Ticker\", \"Year\"]) \\\n",
        "                        .merge(esg_report_date,\n",
        "                                                how=\"left\", on=[\"Ticker\", \"Year\"]) \\\n",
        "                        .merge(esg_report_name[[\"Ticker\", \"Year\", \"report_name\"]],\n",
        "                                                how=\"left\", on=[\"Ticker\", \"Year\"]) \\\n",
        "                        .sort_values([\"Ticker\", \"year\"])\n",
        "esg_report_analysis[\"Independent_report\"].fillna(0, inplace=True)"
      ]
    },
    {
      "cell_type": "code",
      "execution_count": null,
      "metadata": {
        "id": "-a1EtcWj93li"
      },
      "outputs": [],
      "source": [
        "writer = pd.ExcelWriter(r\"C:\\Users\\Hi\\OneDrive - University of Bristol\\Msc Business Analytics\\Wen\\esg_report_analysis.xlsx\", engine='xlsxwriter')\n",
        "\n",
        "years = esg_report_analysis['year'].unique()\n",
        "\n",
        "for year in years:\n",
        "    subset = esg_report_analysis[esg_report_analysis['year'] == year].drop(columns = [\"Ticker\", \"year\", \"Year\"])\n",
        "    sheet_name = f\"overview_{year}\"\n",
        "    subset.to_excel(writer, sheet_name=sheet_name, index=False)\n",
        "\n",
        "writer.close()"
      ]
    }
  ],
  "metadata": {
    "kernelspec": {
      "display_name": "Python 3 (ipykernel)",
      "language": "python",
      "name": "python3"
    },
    "language_info": {
      "codemirror_mode": {
        "name": "ipython",
        "version": 3
      },
      "file_extension": ".py",
      "mimetype": "text/x-python",
      "name": "python",
      "nbconvert_exporter": "python",
      "pygments_lexer": "ipython3",
      "version": "3.10.7"
    },
    "colab": {
      "provenance": []
    }
  },
  "nbformat": 4,
  "nbformat_minor": 0
}